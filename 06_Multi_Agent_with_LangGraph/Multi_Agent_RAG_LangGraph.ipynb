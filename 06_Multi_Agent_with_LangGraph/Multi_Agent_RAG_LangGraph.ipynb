{
 "cells": [
  {
   "cell_type": "markdown",
   "metadata": {
    "id": "KxpWDFG11o3G"
   },
   "source": [
    "# Multi-Agent Workflows + RAG - LangGraph\n",
    "\n",
    "Today we'll be looking at an example of a Multi-Agent workflow that's powered by LangGraph, LCEL, and more!\n",
    "\n",
    "We're going to be, more specifically, looking at a \"heirarchical agent teams\" from the [AutoGen: Enabling Next-Gen LLM\n",
    "Applications via Multi-Agent Conversation](https://arxiv.org/pdf/2308.08155) paper.\n",
    "\n",
    "This will be the final \"graph\" of our system:\n",
    "\n",
    "![image](https://i.imgur.com/r5LMMCt.png)\n",
    "\n",
    "It's important to keep in mind that the actual implementation will be constructed of 3 separate graphs, the final one having 2 graphs as nodes! LangGraph is a heckuva tool!\n",
    "\n"
   ]
  },
  {
   "cell_type": "markdown",
   "metadata": {
    "id": "TyzoBrWoYeOZ"
   },
   "source": [
    "# 🤝 BREAKOUT ROOM #1"
   ]
  },
  {
   "cell_type": "markdown",
   "metadata": {
    "id": "mx3oaVoX5cA2"
   },
   "source": [
    "## Dependencies"
   ]
  },
  {
   "cell_type": "markdown",
   "metadata": {
    "id": "Zpv2MWqu5vS9"
   },
   "source": [
    "Since we'll be relying on OpenAI's suite of models to power our agents today, we'll want to provide our OpenAI API Key.\n",
    "\n",
    "We're also going to be using the Tavily search tool - so we'll want to provide that API key as well!\n",
    "\n",
    "Instruction for how to obtain the Tavily API key can be found:\n",
    "\n",
    "1. [Tavily API Key](https://app.tavily.com/sign-in)\n",
    "\n"
   ]
  },
  {
   "cell_type": "code",
   "execution_count": 2,
   "metadata": {
    "colab": {
     "base_uri": "https://localhost:8080/"
    },
    "id": "h30OjkLfeR2Y",
    "outputId": "f75bb26e-b89d-4611-c29b-f339b3e868af"
   },
   "outputs": [],
   "source": [
    "import os\n",
    "import getpass\n",
    "\n",
    "os.environ[\"OPENAI_API_KEY\"] = getpass.getpass(\"OpenAI API Key:\")\n",
    "os.environ[\"TAVILY_API_KEY\"] = getpass.getpass(\"TAVILY_API_KEY\")\n",
    "\n",
    "# Import ArXiv tool for dynamic paper fetching\n",
    "from langchain_community.tools.arxiv.tool import ArxivQueryRun"
   ]
  },
  {
   "cell_type": "code",
   "execution_count": 5,
   "metadata": {},
   "outputs": [],
   "source": [
    "# Initialize ArXiv tool for dynamic paper fetching\n",
    "arxiv_tool = ArxivQueryRun()\n"
   ]
  },
  {
   "cell_type": "code",
   "execution_count": 6,
   "metadata": {},
   "outputs": [],
   "source": [
    "import nest_asyncio\n",
    "nest_asyncio.apply()"
   ]
  },
  {
   "cell_type": "markdown",
   "metadata": {
    "id": "M_LD7rwT6PbO"
   },
   "source": [
    "## Task 1: Simple LangGraph RAG\n",
    "\n",
    "Now that we have our dependencies set-up - let's create a simple RAG graph that works over our AI Usage Data from previous sessions.\n",
    "\n",
    "> NOTE: While this particular example is very straight forward - you can \"plug in\" any complexity of chain you desire as a node in a LangGraph."
   ]
  },
  {
   "cell_type": "markdown",
   "metadata": {
    "id": "JY7T5kxJ6jGn"
   },
   "source": [
    "### Retrieval\n",
    "\n",
    "The 'R' in 'RAG' - this is, at this point, fairly straightforward!"
   ]
  },
  {
   "cell_type": "markdown",
   "metadata": {
    "id": "DGuPxSCk7Ztz"
   },
   "source": [
    "#### Data Collection and Processing\n",
    "\n",
    "A classic first step, at this point, let's grab our desired document!"
   ]
  },
  {
   "cell_type": "code",
   "execution_count": 7,
   "metadata": {
    "id": "LfuoEYRCln3H"
   },
   "outputs": [],
   "source": [
    "from langchain_community.document_loaders import DirectoryLoader\n",
    "from langchain_community.document_loaders import PyMuPDFLoader\n",
    "\n",
    "directory_loader = DirectoryLoader(\"data\", glob=\"**/*.pdf\", loader_cls=PyMuPDFLoader)\n",
    "\n",
    "how_people_use_ai_documents = directory_loader.load()"
   ]
  },
  {
   "cell_type": "markdown",
   "metadata": {
    "id": "r_t_F1zG6vXa"
   },
   "source": [
    "Now we can chunk it down to size!"
   ]
  },
  {
   "cell_type": "code",
   "execution_count": 8,
   "metadata": {
    "id": "5R7A_z8CgL79"
   },
   "outputs": [],
   "source": [
    "import tiktoken\n",
    "from langchain.text_splitter import RecursiveCharacterTextSplitter\n",
    "\n",
    "def tiktoken_len(text):\n",
    "    tokens = tiktoken.encoding_for_model(\"gpt-4o\").encode(\n",
    "        text,\n",
    "    )\n",
    "    return len(tokens)\n",
    "\n",
    "text_splitter = RecursiveCharacterTextSplitter(\n",
    "    chunk_size = 750,\n",
    "    chunk_overlap = 0,\n",
    "    length_function = tiktoken_len,\n",
    ")\n",
    "\n",
    "how_people_use_ai_chunks = text_splitter.split_documents(how_people_use_ai_documents)"
   ]
  },
  {
   "cell_type": "markdown",
   "metadata": {
    "id": "lGE-VuMc7AKv"
   },
   "source": [
    "Now we've successfully split our single PDF into..."
   ]
  },
  {
   "cell_type": "code",
   "execution_count": 9,
   "metadata": {
    "colab": {
     "base_uri": "https://localhost:8080/"
    },
    "id": "pgYBHsdWmLvW",
    "outputId": "aa9a830e-f7db-4bb3-f542-c0614cb01aca"
   },
   "outputs": [
    {
     "data": {
      "text/plain": [
       "71"
      ]
     },
     "execution_count": 9,
     "metadata": {},
     "output_type": "execute_result"
    }
   ],
   "source": [
    "len(how_people_use_ai_chunks)"
   ]
  },
  {
   "cell_type": "markdown",
   "metadata": {
    "id": "cGWs7KTd7QPS"
   },
   "source": [
    "#### Embedding Model and Vector Store\n",
    "\n",
    "Now that we have our chunked document - lets create a vector store, which will first require us to create an embedding model to get the vector representations of our text!\n",
    "\n",
    "We'll use OpenAI's [`text-embedding-3-small`](https://platform.openai.com/docs/guides/embeddings/embedding-models) model - as it's cheap, and performant."
   ]
  },
  {
   "cell_type": "code",
   "execution_count": 10,
   "metadata": {
    "id": "xLIWMMZCmfrj"
   },
   "outputs": [],
   "source": [
    "from langchain_openai.embeddings import OpenAIEmbeddings\n",
    "\n",
    "embedding_model = OpenAIEmbeddings(model=\"text-embedding-3-small\")"
   ]
  },
  {
   "cell_type": "markdown",
   "metadata": {
    "id": "lTEi7Ww573sc"
   },
   "source": [
    "Now we can create our QDrant backed vector store!"
   ]
  },
  {
   "cell_type": "code",
   "execution_count": 11,
   "metadata": {
    "id": "Xct51f8omVAU"
   },
   "outputs": [],
   "source": [
    "from langchain_community.vectorstores import Qdrant\n",
    "\n",
    "qdrant_vectorstore = Qdrant.from_documents(\n",
    "    documents=how_people_use_ai_chunks,\n",
    "    embedding=embedding_model,\n",
    "    location=\":memory:\"\n",
    ")"
   ]
  },
  {
   "cell_type": "markdown",
   "metadata": {
    "id": "wzGq6o4s79Ar"
   },
   "source": [
    "Let's make sure we can access it as a retriever."
   ]
  },
  {
   "cell_type": "code",
   "execution_count": 12,
   "metadata": {
    "id": "OTnQZbWymi4K"
   },
   "outputs": [],
   "source": [
    "qdrant_retriever = qdrant_vectorstore.as_retriever()"
   ]
  },
  {
   "cell_type": "markdown",
   "metadata": {
    "id": "aU8qSrMS7_D7"
   },
   "source": [
    "### Augmented\n",
    "\n",
    "Now that we have our retrieval process set-up, we need to set up our \"augmentation\" process - AKA a prompt template."
   ]
  },
  {
   "cell_type": "code",
   "execution_count": 13,
   "metadata": {
    "id": "lezTN0zCmk46"
   },
   "outputs": [],
   "source": [
    "from langchain_core.prompts import ChatPromptTemplate\n",
    "\n",
    "HUMAN_TEMPLATE = \"\"\"\n",
    "#CONTEXT:\n",
    "{context}\n",
    "\n",
    "QUERY:\n",
    "{query}\n",
    "\n",
    "Use the provide context to answer the provided user query. Only use the provided context to answer the query. If you do not know the answer, or it's not contained in the provided context respond with \"I don't know\"\n",
    "\"\"\"\n",
    "\n",
    "chat_prompt = ChatPromptTemplate.from_messages([\n",
    "    (\"human\", HUMAN_TEMPLATE)\n",
    "])"
   ]
  },
  {
   "cell_type": "markdown",
   "metadata": {
    "id": "Y9fa63nM7IKK"
   },
   "source": [
    "### Generation\n",
    "\n",
    "Last, but certainly not least, let's put the 'G' in 'RAG' by adding our generator - in this case, we can rely on OpenAI's [`gpt-4o-mini`](https://platform.openai.com/docs/models/gpt-4o-mini) model!"
   ]
  },
  {
   "cell_type": "code",
   "execution_count": 14,
   "metadata": {
    "id": "AwEi29-Jo3a8"
   },
   "outputs": [],
   "source": [
    "from langchain_openai import ChatOpenAI\n",
    "\n",
    "generator_llm = ChatOpenAI(model=\"gpt-4.1-nano\")"
   ]
  },
  {
   "cell_type": "markdown",
   "metadata": {
    "id": "qO-ZC0T98XJJ"
   },
   "source": [
    "### RAG - Retrieval Augmented Generation\n",
    "\n",
    "All that's left to do is combine our R, A, and G into a single graph - and we're off!"
   ]
  },
  {
   "cell_type": "code",
   "execution_count": 15,
   "metadata": {
    "id": "nlOJrPm_oT3S"
   },
   "outputs": [],
   "source": [
    "from langgraph.graph import START, StateGraph\n",
    "from typing_extensions import List, TypedDict\n",
    "from langchain_core.documents import Document\n",
    "from langchain_core.output_parsers import StrOutputParser\n",
    "\n",
    "class State(TypedDict):\n",
    "  question: str\n",
    "  context: List[Document]\n",
    "  response: str\n",
    "\n",
    "def retrieve(state: State):\n",
    "  retrieved_docs = qdrant_retriever.invoke(state[\"question\"])\n",
    "  return {\"context\" : retrieved_docs}\n",
    "\n",
    "def generate(state: State):\n",
    "  generator_chain = chat_prompt | generator_llm | StrOutputParser()\n",
    "  response = generator_chain.invoke({\"query\" : state[\"question\"], \"context\" : state[\"context\"]})\n",
    "  return {\"response\" : response}\n",
    "\n",
    "rag_graph = StateGraph(State).add_sequence([retrieve, generate])\n",
    "rag_graph.add_edge(START, \"retrieve\")\n",
    "compiled_rag_graph = rag_graph.compile()"
   ]
  },
  {
   "cell_type": "markdown",
   "metadata": {
    "id": "qiWrbXpu8ggz"
   },
   "source": [
    "Let's test this out and make sure it works."
   ]
  },
  {
   "cell_type": "code",
   "execution_count": 17,
   "metadata": {},
   "outputs": [],
   "source": [
    "def fetch_arxiv_papers(query: str, max_results: int = 3):\n",
    "    \"\"\"\n",
    "    Dynamically fetch ArXiv papers based on a query and process them for RAG.\n",
    "    \n",
    "    Args:\n",
    "        query: Search query for ArXiv papers\n",
    "        max_results: Maximum number of papers to fetch\n",
    "        \n",
    "    Returns:\n",
    "        List of processed documents ready for RAG\n",
    "    \"\"\"\n",
    "    # Search for papers using ArXiv tool\n",
    "    search_results = arxiv_tool.invoke(query)\n",
    "    \n",
    "    # Process the results into documents\n",
    "    documents = []\n",
    "    \n",
    "    # The ArXiv tool returns a string with paper information\n",
    "    # We'll split it by papers and create documents\n",
    "    papers = search_results.split('\\n\\n')\n",
    "    \n",
    "    for i, paper in enumerate(papers[:max_results]):\n",
    "        if paper.strip():  # Skip empty papers\n",
    "            # Create a document from the paper text\n",
    "            from langchain_core.documents import Document\n",
    "            doc = Document(\n",
    "                page_content=paper.strip(),\n",
    "                metadata={\"source\": f\"arxiv_paper_{i+1}\", \"query\": query}\n",
    "            )\n",
    "            documents.append(doc)\n",
    "    \n",
    "    return documents\n"
   ]
  },
  {
   "cell_type": "code",
   "execution_count": 18,
   "metadata": {},
   "outputs": [],
   "source": [
    "def create_dynamic_arxiv_retriever(query: str, max_results: int = 3):\n",
    "    \"\"\"\n",
    "    Create a dynamic retriever from ArXiv papers based on a query.\n",
    "    \n",
    "    Args:\n",
    "        query: Search query for ArXiv papers\n",
    "        max_results: Maximum number of papers to fetch\n",
    "        \n",
    "    Returns:\n",
    "        A retriever that can be used in the RAG system\n",
    "    \"\"\"\n",
    "    # Fetch papers dynamically\n",
    "    arxiv_documents = fetch_arxiv_papers(query, max_results)\n",
    "    \n",
    "    if not arxiv_documents:\n",
    "        # Fallback to empty documents if no papers found\n",
    "        from langchain_core.documents import Document\n",
    "        arxiv_documents = [Document(page_content=\"No relevant papers found.\", metadata={\"source\": \"no_results\"})]\n",
    "    \n",
    "    # Chunk the documents\n",
    "    arxiv_chunks = text_splitter.split_documents(arxiv_documents)\n",
    "    \n",
    "    # Create vector store from ArXiv papers\n",
    "    arxiv_vectorstore = Qdrant.from_documents(\n",
    "        documents=arxiv_chunks,\n",
    "        embedding=embedding_model,\n",
    "        location=\":memory:\"\n",
    "    )\n",
    "    \n",
    "    return arxiv_vectorstore.as_retriever()\n"
   ]
  },
  {
   "cell_type": "code",
   "execution_count": null,
   "metadata": {},
   "outputs": [],
   "source": [
    "### Dynamic RAG with ArXiv Integration\n",
    "\n",
    "#Now let's modify the RAG system to use ArXiv papers dynamically instead of hardcoded documents:\n"
   ]
  },
  {
   "cell_type": "code",
   "execution_count": 20,
   "metadata": {},
   "outputs": [],
   "source": [
    "def dynamic_retrieve(state: State):\n",
    "    \"\"\"\n",
    "    Dynamic retrieve function that fetches ArXiv papers based on the question\n",
    "    and returns relevant context for RAG.\n",
    "    \"\"\"\n",
    "    question = state[\"question\"]\n",
    "    \n",
    "    # Create a dynamic retriever based on the question\n",
    "    # We'll use the question as the ArXiv search query\n",
    "    dynamic_retriever = create_dynamic_arxiv_retriever(question, max_results=3)\n",
    "    \n",
    "    # Retrieve relevant documents\n",
    "    retrieved_docs = dynamic_retriever.invoke(question)\n",
    "    \n",
    "    return {\"context\": retrieved_docs}\n"
   ]
  },
  {
   "cell_type": "code",
   "execution_count": 21,
   "metadata": {},
   "outputs": [],
   "source": [
    "# Create dynamic RAG graph with ArXiv integration\n",
    "dynamic_rag_graph = StateGraph(State).add_sequence([dynamic_retrieve, generate])\n",
    "dynamic_rag_graph.add_edge(START, \"dynamic_retrieve\")\n",
    "compiled_dynamic_rag_graph = dynamic_rag_graph.compile()\n"
   ]
  },
  {
   "cell_type": "code",
   "execution_count": 25,
   "metadata": {},
   "outputs": [
    {
     "name": "stdout",
     "output_type": "stream",
     "text": [
      "Testing Dynamic ArXiv RAG System\n",
      "==================================================\n",
      "Question: what information is in your context?\n",
      "\n",
      "Dynamic RAG Response:\n",
      "------------------------------\n",
      "The context contains summaries and details about three different academic papers:\n",
      "\n",
      "1. A 2020 paper titled \"Spying on your neighbors: Fine-grained probing of contextual embeddings for information about surrounding words\" by Josef Klafka and Allyson Ettinger, discussing how models like BERT, ELMo, and GPT encode information about surrounding words in their embeddings.\n",
      "\n",
      "2. A 2014 paper titled \"A new model for Context-Oriented Programs\" by Mohamed A. El-Zawawy and Eisa A. Aleisa, presenting a semantics and type system for context-oriented programming languages that can change context during program execution.\n",
      "\n",
      "3. A 2024 paper titled \"CWTM: Leveraging Contextualized Word Embeddings from BERT for Neural Topic Modeling\" by Zheng Fang, Yulan He, and Rob Procter, proposing a neural topic model that uses BERT embeddings to improve topic coherence and handle out-of-vocabulary words.\n"
     ]
    }
   ],
   "source": [
    "# Test the dynamic ArXiv RAG system\n",
    "print(\"Testing Dynamic ArXiv RAG System\")\n",
    "print(\"=\" * 50)\n",
    "\n",
    "# Test with a question about context engineering\n",
    "test_question = \"what information is in your context?\"\n",
    "\n",
    "print(f\"Question: {test_question}\")\n",
    "print(\"\\nDynamic RAG Response:\")\n",
    "print(\"-\" * 30)\n",
    "\n",
    "try:\n",
    "    response = compiled_dynamic_rag_graph.invoke({\"question\": test_question})\n",
    "    print(response[\"response\"])\n",
    "except Exception as e:\n",
    "    print(f\"Error: {e}\")\n",
    "    print(\"This might be due to API key requirements or network issues.\")\n"
   ]
  },
  {
   "cell_type": "code",
   "execution_count": 13,
   "metadata": {
    "colab": {
     "base_uri": "https://localhost:8080/",
     "height": 122
    },
    "id": "gJhFlW32pBPe",
    "outputId": "7aee04b6-608f-4639-adca-66225d4d3002"
   },
   "outputs": [
    {
     "data": {
      "text/plain": [
       "{'question': 'How does the average person use AI?',\n",
       " 'context': [Document(metadata={'producer': 'macOS Version 15.4.1 (Build 24E263) Quartz PDFContext, AppendMode 1.1', 'creator': 'LaTeX with hyperref', 'creationdate': '2025-09-12T20:05:32+00:00', 'source': 'data/howpeopleuseai.pdf', 'file_path': 'data/howpeopleuseai.pdf', 'total_pages': 64, 'format': 'PDF 1.6', 'title': 'How People Use ChatGPT', 'author': '', 'subject': '', 'keywords': '', 'moddate': '2025-09-15T10:32:36-04:00', 'trapped': '', 'modDate': \"D:20250915103236-04'00'\", 'creationDate': 'D:20250912200532Z', 'page': 17, '_id': '665af3fd121541428ed2d3ab1e5d29f3', '_collection_name': '6a17aad570544b81a40b28e1f83a62fe'}, page_content='suggests that most user Writing conversations with ChatGPT are requests to modify user inputs\\nrather than to create something new. Education is a major use case for ChatGPT. 10.2% of all user\\nmessages and 36% of Practical Guidance messages are requests for Tutoring or Teaching. Another\\nlarge share - 8.5% in total and 30% of Practical Guidance - is general how-to advice on a variety\\nof topics. Technical Help includes Computer Programming (4.2% of messages), Mathematical Calcu-\\nlations (3%), and Data Analysis (0.4%). Looking at the topic of Self-Expression, only 2.4% of all\\nChatGPT messages are about Relationships and Personal Reflection (1.9%) or Games and Role Play\\n(0.4%).\\nWhile users can seek information and advice from traditional web search engines as well as from\\nChatGPT, the ability to produce writing, software code, spreadsheets, and other digital products\\ndistinguishes generative AI from existing technologies.\\nChatGPT is also more flexible than web\\nsearch even for traditional applications like Seeking Information and Practical Guidance, because\\nusers receive customized responses (e.g., tailored workout plans, new product ideas, ideas for fantasy\\nfootball team names) that represent newly generated content or novel modification of user-provided\\ncontent and follow-up requests.\\nFigure 9: Breakdown of granular conversation topic shares within the coarse mapping defined in Table 3. The\\nunderlying classifier prompt is available in Appendix A. Each bin reports a percentage of the total population.\\nShares are calculated from a sample of approximately 1.1 million sampled conversations from May 15, 2024\\nthrough June 26, 2025. Observations are reweighted to reflect total message volumes on a given day. Sampling\\ndetails available in Section 3.\\n5.3\\nUser Intent\\nExisting studies of the economic impacts of generative AI focus almost exclusively on the potential\\nfor AI to perform workplace tasks, either augmenting or automating human labor (e.g. Eloundou et\\nal. (2025), Handa et al. (2025), Tomlinson et al. (2025)). However, generative AI is a highly flexible\\n16'),\n",
       "  Document(metadata={'producer': 'macOS Version 15.4.1 (Build 24E263) Quartz PDFContext, AppendMode 1.1', 'creator': 'LaTeX with hyperref', 'creationdate': '2025-09-12T20:05:32+00:00', 'source': 'data/howpeopleuseai.pdf', 'file_path': 'data/howpeopleuseai.pdf', 'total_pages': 64, 'format': 'PDF 1.6', 'title': 'How People Use ChatGPT', 'author': '', 'subject': '', 'keywords': '', 'moddate': '2025-09-15T10:32:36-04:00', 'trapped': '', 'modDate': \"D:20250915103236-04'00'\", 'creationDate': 'D:20250912200532Z', 'page': 4, '_id': 'a60e12f7a5e24859967006f796b1fe48', '_collection_name': '6a17aad570544b81a40b28e1f83a62fe'}, page_content='to Games and Role Play. In contrast, Zao-Sanders (2025) estimates that Therapy/Companionship is\\nthe most prevalent use case for generative AI.9\\nWe also document several important facts about demographic variation in ChatGPT usage. First,\\nwe show evidence that the gender gap in ChatGPT usage has likely narrowed considerably over time,\\nand may have closed completely. In the few months after ChatGPT was released about 80% of active\\nusers had typically masculine first names.10 However, that number declined to 48% as of June 2025,\\nwith active users slightly more likely to have typically feminine first names. Second, we find that\\nnearly half of all messages sent by adults were sent by users under the age of 26, although age gaps\\nhave narrowed somewhat in recent months. Third, we find that ChatGPT usage has grown relatively\\nfaster in low- and middle-income countries over the last year. Fourth, we find that educated users and\\nusers in highly-paid professional occupations are substantially more likely to use ChatGPT for work.\\nWe introduce a new taxonomy to classify messages according to the kind of output the user is\\nseeking, using a simple rubric that we call Asking, Doing, or Expressing.11\\nAsking is when the\\nuser is seeking information or clarification to inform a decision, corresponding to problem-solving\\nmodels of knowledge work (e.g., Garicano (2000); Garicano and Rossi-Hansberg (2006); Carnehl and\\nSchneider (2025); Ide and Talamas (2025)). Doing is when the user wants to produce some output\\nor perform a particular task, corresponding to classic task-based models of work (e.g., Autor et al.\\n(2003)). Expressing is when the user is expressing views or feelings but not seeking any information or\\naction. We estimate that about 49% of messages are Asking, 40% are Doing, and 11% are Expressing.\\nHowever, as of July 2025 about 56% of work-related messages are classified as Doing (e.g., performing\\njob tasks), and nearly three-quarters of those are Writing tasks. The relative frequency of writing-\\nrelated conversations is notable for two reasons. First, writing is a task that is common to nearly all\\nwhite-collar jobs, and good written communication skills are among the top “soft” skills demanded by\\nemployers (National Association of Colleges and Employers, 2024). Second, one distinctive feature of\\ngenerative AI, relative to other information technologies, is its ability to produce long-form outputs\\nsuch as writing and software code.\\nWe also map message content to work activities using the Occupational Information Network\\n(O*NET), a survey of job characteristics supported by the U.S. Department of Labor. We find that\\nabout 81% of work-related messages are associated with two broad work activities: 1) obtaining,\\ndocumenting, and interpreting information; and 2) making decisions, giving advice, solving problems,\\nand thinking creatively. Additionally, we find that the work activities associated with ChatGPT usage\\nare highly similar across very different kinds of occupations. For example, the work activities Getting\\nInformation and Making Decisions and Solving Problems are in the top five of message frequency in\\nnearly all occupations, ranging from management and business to STEM to administrative and sales\\noccupations.\\nOverall, we find that information-seeking and decision support are the most common ChatGPT\\nuse cases in most jobs. This is consistent with the fact that almost half of all ChatGPT usage is'),\n",
       "  Document(metadata={'producer': 'macOS Version 15.4.1 (Build 24E263) Quartz PDFContext, AppendMode 1.1', 'creator': 'LaTeX with hyperref', 'creationdate': '2025-09-12T20:05:32+00:00', 'source': 'data/howpeopleuseai.pdf', 'file_path': 'data/howpeopleuseai.pdf', 'total_pages': 64, 'format': 'PDF 1.6', 'title': 'How People Use ChatGPT', 'author': '', 'subject': '', 'keywords': '', 'moddate': '2025-09-15T10:32:36-04:00', 'trapped': '', 'modDate': \"D:20250915103236-04'00'\", 'creationDate': 'D:20250912200532Z', 'page': 43, '_id': 'f8e51ccaf9f74b939e41dc8a55c10074', '_collection_name': '6a17aad570544b81a40b28e1f83a62fe'}, page_content='A.3\\nConversation Topic\\n-----\\nYou are an internal tool that classifies a message from a user to an AI chatbot,\\nbased on the context of the previous messages before it.\\n,→\\nBased on the last user message of this conversation transcript and taking into\\naccount the examples further below as guidance, please select the capability\\nthe user is clearly interested in, or `other` if it is clear but not in the\\nlist below, or `unclear` if it is hard to tell what the user even wants:\\n,→\\n,→\\n,→\\n- **edit_or_critique_provided_text**: Improving or modifying text provided by the\\nuser.\\n,→\\n- **argument_or_summary_generation**: Creating arguments or summaries on topics not\\nprovided in detail by the user.\\n,→\\n- **personal_writing_or_communication**: Assisting with personal messages, emails,\\nor social media posts.\\n,→\\n- **write_fiction**: Crafting poems, stories, or fictional content.\\n- **how_to_advice**: Providing step-by-step instructions or guidance on how to\\nperform tasks or learn new skills.\\n,→\\n- **creative_ideation**: Generating ideas or suggestions for creative projects or\\nactivities.\\n,→\\n- **tutoring_or_teaching**: Explaining concepts, teaching subjects, or helping the\\nuser understand educational material.\\n,→\\n- **translation**: Translating text from one language to another.\\n- **mathematical_calculation**: Solving math problems, performing calculations, or\\nworking with numerical data.\\n,→\\n- **computer_programming**: Writing code, debugging, explaining programming\\nconcepts, or discussing programming languages and tools.\\n,→\\n- **purchasable_products**: Inquiries about products or services available for\\npurchase.\\n,→\\n42'),\n",
       "  Document(metadata={'producer': 'macOS Version 15.4.1 (Build 24E263) Quartz PDFContext, AppendMode 1.1', 'creator': 'LaTeX with hyperref', 'creationdate': '2025-09-12T20:05:32+00:00', 'source': 'data/howpeopleuseai.pdf', 'file_path': 'data/howpeopleuseai.pdf', 'total_pages': 64, 'format': 'PDF 1.6', 'title': 'How People Use ChatGPT', 'author': '', 'subject': '', 'keywords': '', 'moddate': '2025-09-15T10:32:36-04:00', 'trapped': '', 'modDate': \"D:20250915103236-04'00'\", 'creationDate': 'D:20250912200532Z', 'page': 41, '_id': '7b0d9ffafa094448820e53c735b41bde', '_collection_name': '6a17aad570544b81a40b28e1f83a62fe'}, page_content='Vaswani, Ashish, Noam Shazeer, Niki Parmar, Jakob Uszkoreit, Llion Jones, Aidan N.\\nGomez, Lukasz Kaiser, and Illia Polosukhin, “Attention Is All You Need,” in I. Guyon,\\nU. Von Luxburg, S. Bengio, H. Wallach, R. Fergus, S. Vishwanathan, and R. Garnett, eds., Ad-\\nvances in Neural Information Processing Systems, Vol. 30 of 31st Conference on Neural Information\\nProcessing Systems (NIPS) Curran Associates, Inc. Long Beach, CA, USA 2017.\\nWest, Jevin D., Jennifer Jacquet, Molly M. King, Shelley J. Correll, and Carl T.\\nBergstrom, “The Role of Gender in Scholarly Authorship,” PLoS ONE, 2013, 8 (7), e66212.\\nWiggers, Kyle, “ChatGPT Isn’t the Only Chatbot That’s Gaining Users,” TechCrunch, 2025. Ac-\\ncessed: 2025-09-10.\\nZao-Sanders, Marc, “How People Are Really Using Gen AI in 2025,” Harvard Business Review\\nApril 2025. https://hbr.org/2025/04/how-people-are-really-using-gen-ai-in-2025.\\nZhao, Wenting, Xiang Ren, Jack Hessel, Claire Cardie, Yejin Choi, and Yuntian Deng,\\n“WildChat: 1M ChatGPT Interaction Logs in the Wild,” 2024.\\n40')],\n",
       " 'response': 'The provided context indicates that the average person primarily uses AI, such as ChatGPT, for requests related to modifying or creating content, with education being a major use case. Many users seek tutoring or teaching assistance (36% of Practical Guidance messages), as well as general how-to advice on various topics (30%). Users also engage in technical help, including programming, mathematical calculations, and data analysis, although these are smaller shares. Additionally, users utilize AI for self-expression activities like relationships, personal reflection, games, and role play, though these constitute a smaller portion of usage. Overall, information-seeking, practical guidance, and content creation—especially writing tasks—are common ways that the average person uses AI.'}"
      ]
     },
     "execution_count": 13,
     "metadata": {},
     "output_type": "execute_result"
    }
   ],
   "source": [
    "compiled_rag_graph.invoke({\"question\" : \"How does the average person use AI?\"})"
   ]
  },
  {
   "cell_type": "markdown",
   "metadata": {
    "id": "gReMizYk8qd-"
   },
   "source": [
    "### RAG Limitation\n",
    "\n",
    "Notice how we're hard-coding our data, while this is simply meant to be an illustrative example - you could easily extend this to work with any provied paper or document in order to have a more dynamic system.\n",
    "\n",
    "For now, we'll stick with this single hard-coded example in order to keep complexity down in an already very long notebook!"
   ]
  },
  {
   "cell_type": "markdown",
   "metadata": {
    "id": "oxkbuir-H5rE"
   },
   "source": [
    "##### 🏗️ Activity #1 (Bonus Marks)\n",
    "\n",
    "Allow the system to dynamically fetch Arxiv papers instead of hard coding them.\n",
    "\n",
    "\n",
    "**COMPLETED!** The system now dynamically fetches ArXiv papers instead of hard coding them.\n",
    "\n",
    "**What was implemented:**\n",
    "\n",
    "1. **ArXiv Tool Integration**: Added `ArxivQueryRun()` from LangChain community tools\n",
    "2. **Dynamic Document Fetcher**: Created `fetch_arxiv_papers()` function to search and process ArXiv papers\n",
    "3. **Dynamic Retriever**: Created `create_dynamic_arxiv_retriever()` to build vector stores from ArXiv papers\n",
    "4. **Dynamic RAG Graph**: Modified the retrieve function to use ArXiv papers based on the question\n",
    "5. **New RAG System**: `compiled_dynamic_rag_graph` that fetches relevant papers for any question\n",
    "\n",
    "**Key Benefits:**\n",
    "- ✅ No more hardcoded documents\n",
    "- ✅ Dynamic paper fetching based on user questions\n",
    "- ✅ Access to current academic research\n",
    "- ✅ Flexible knowledge base for any topic\n",
    "- ✅ Leverages ArXiv's vast database of academic papers\n",
    "\n",
    "**Usage:** Simply ask any question and the system will automatically search for relevant ArXiv papers and provide answers based on the latest academic research!"
   ]
  },
  {
   "cell_type": "markdown",
   "metadata": {
    "id": "7U6a_pqQ9uWf"
   },
   "source": [
    "## Task 2: Helper Functions for Agent Graphs\n",
    "\n",
    "We'll be using a number of agents, nodes, and supervisors in the rest of the notebook - and so it will help to have a collection of useful helper functions that we can leverage to make our lives easier going forward.\n",
    "\n",
    "Let's start with the most simple one!"
   ]
  },
  {
   "cell_type": "markdown",
   "metadata": {
    "id": "IDUnpEEl-L_F"
   },
   "source": [
    "#### Import Wall\n",
    "\n",
    "Here's a wall of imports we'll be needing going forward!"
   ]
  },
  {
   "cell_type": "code",
   "execution_count": 27,
   "metadata": {
    "id": "TbzoL3Q3-SG1"
   },
   "outputs": [],
   "source": [
    "from typing import Any, Callable, List, Optional, TypedDict, Union\n",
    "\n",
    "from langchain.agents import AgentExecutor, create_openai_functions_agent\n",
    "from langchain.output_parsers.openai_functions import JsonOutputFunctionsParser\n",
    "from langchain_core.prompts import ChatPromptTemplate, MessagesPlaceholder\n",
    "from langchain_core.messages import AIMessage, BaseMessage, HumanMessage\n",
    "from langchain_core.runnables import Runnable\n",
    "from langchain_core.tools import BaseTool\n",
    "from langchain_openai import ChatOpenAI\n",
    "\n",
    "from langgraph.graph import END, StateGraph"
   ]
  },
  {
   "cell_type": "markdown",
   "metadata": {
    "id": "qb6Z3EEz-Asi"
   },
   "source": [
    "### Agent Node Helper\n",
    "\n",
    "Since we're going to be wrapping each of our agents into a node - it will help to have an easy way to create the node!"
   ]
  },
  {
   "cell_type": "code",
   "execution_count": 30,
   "metadata": {
    "id": "5IF7KWfS-JKd"
   },
   "outputs": [],
   "source": [
    "def agent_node(state, agent, name):\n",
    "    result = agent.invoke(state)\n",
    "    return {\"messages\": [HumanMessage(content=result[\"output\"], name=name)]}"
   ]
  },
  {
   "cell_type": "markdown",
   "metadata": {
    "id": "fwND2teK-WHm"
   },
   "source": [
    "### Agent Creation Helper Function\n",
    "\n",
    "Since we know we'll need to create agents to populate our agent nodes, let's use a helper function for that as well!\n",
    "\n",
    "Notice a few things:\n",
    "\n",
    "1. We have a standard suffix to append to our system messages for each agent to handle the tool calling and boilerplate prompting.\n",
    "2. Each agent has its our scratchpad.\n",
    "3. We're relying on OpenAI's function-calling API for tool selection\n",
    "4. Each agent is its own executor."
   ]
  },
  {
   "cell_type": "code",
   "execution_count": 31,
   "metadata": {
    "id": "NxLyHJt5-eUx"
   },
   "outputs": [],
   "source": [
    "def create_agent(\n",
    "    llm: ChatOpenAI,\n",
    "    tools: list,\n",
    "    system_prompt: str,\n",
    ") -> str:\n",
    "    \"\"\"Create a function-calling agent and add it to the graph.\"\"\"\n",
    "    system_prompt += (\"\\nWork autonomously according to your specialty, using the tools available to you.\"\n",
    "    \" Do not ask for clarification.\"\n",
    "    \" Your other team members (and other teams) will collaborate with you with their own specialties.\"\n",
    "    \" You are chosen for a reason!\")\n",
    "    prompt = ChatPromptTemplate.from_messages(\n",
    "        [\n",
    "            (\n",
    "                \"system\",\n",
    "                system_prompt,\n",
    "            ),\n",
    "            MessagesPlaceholder(variable_name=\"messages\"),\n",
    "            MessagesPlaceholder(variable_name=\"agent_scratchpad\"),\n",
    "        ]\n",
    "    )\n",
    "    agent = create_openai_functions_agent(llm, tools, prompt)\n",
    "    executor = AgentExecutor(agent=agent, tools=tools)\n",
    "    return executor"
   ]
  },
  {
   "cell_type": "markdown",
   "metadata": {
    "id": "S6kmlR9d-1K5"
   },
   "source": [
    "### Supervisor Helper Function\n",
    "\n",
    "Finally, we need a \"supervisor\" that decides and routes tasks to specific agents.\n",
    "\n",
    "Since each \"team\" will have a collection of potential agents - this \"supervisor\" will act as an \"intelligent\" router to make sure that the right agent is selected for the right task.\n",
    "\n",
    "Notice that, at the end of the day, this \"supervisor\" is simply directing who acts next - or if the state is considered \"done\"."
   ]
  },
  {
   "cell_type": "code",
   "execution_count": 46,
   "metadata": {
    "id": "S2MXA83mrYE2"
   },
   "outputs": [],
   "source": [
    "def create_team_supervisor(llm: ChatOpenAI, system_prompt, members) -> str:\n",
    "    \"\"\"An LLM-based router.\"\"\"\n",
    "    options = [\"FINISH\"] + members\n",
    "    function_def = {\n",
    "        \"name\": \"route\",\n",
    "        \"description\": \"Select the next role.\",\n",
    "        \"parameters\": {\n",
    "            \"title\": \"routeSchema\",\n",
    "            \"type\": \"object\",\n",
    "            \"properties\": {\n",
    "                \"next\": {\n",
    "                    \"title\": \"Next\",\n",
    "                    \"anyOf\": [\n",
    "                        {\"enum\": options},\n",
    "                    ],\n",
    "                },\n",
    "            },\n",
    "            \"required\": [\"next\"],\n",
    "        },\n",
    "    }\n",
    "    prompt = ChatPromptTemplate.from_messages(\n",
    "        [\n",
    "            (\"system\", system_prompt),\n",
    "            MessagesPlaceholder(variable_name=\"messages\"),\n",
    "            (\n",
    "                \"system\",\n",
    "                \"Given the conversation above, who should act next?\"\n",
    "                \" Or should we FINISH? Select one of: {options}\",\n",
    "            ),\n",
    "        ]\n",
    "    ).partial(options=str(options), team_members=\", \".join(members))\n",
    "    return (\n",
    "        prompt\n",
    "        | llm.bind_functions(functions=[function_def], function_call=\"route\")\n",
    "        | JsonOutputFunctionsParser()\n",
    "    )"
   ]
  },
  {
   "cell_type": "markdown",
   "metadata": {
    "id": "jd0zfyq48jKb"
   },
   "source": [
    "## Task 3: Research Team - A LangGraph for Researching AI Usage Policy\n",
    "\n",
    "Now that we have our RAG chain set-up and some awesome helper functions, we want to create a LangGraph related to researching a specific topic, in this case: How People Use AI!\n",
    "\n",
    "We're going to start by equipping our Research Team with a few tools:\n",
    "\n",
    "1. Tavily Search - aka \"Google\", for the most up to date information possible.\n",
    "2. Our RAG chain - specific and high quality information about our topic.\n",
    "\n",
    "Let's create those tools now!"
   ]
  },
  {
   "cell_type": "markdown",
   "metadata": {
    "id": "VNsVTZrH_alw"
   },
   "source": [
    "### Tool Creation\n",
    "\n",
    "As you can see below, some tools already come pre-packaged ready to use!"
   ]
  },
  {
   "cell_type": "code",
   "execution_count": 32,
   "metadata": {
    "id": "ce7FKTZDgAWG"
   },
   "outputs": [
    {
     "name": "stderr",
     "output_type": "stream",
     "text": [
      "/var/folders/0j/52nrhqqd6hq140jsz5rrd5km0000gq/T/ipykernel_36373/1911882425.py:3: LangChainDeprecationWarning: The class `TavilySearchResults` was deprecated in LangChain 0.3.25 and will be removed in 1.0. An updated version of the class exists in the :class:`~langchain-tavily package and should be used instead. To use it run `pip install -U :class:`~langchain-tavily` and import as `from :class:`~langchain_tavily import TavilySearch``.\n",
      "  tavily_tool = TavilySearchResults(max_results=5)\n"
     ]
    }
   ],
   "source": [
    "from langchain_community.tools.tavily_search import TavilySearchResults\n",
    "\n",
    "tavily_tool = TavilySearchResults(max_results=5)"
   ]
  },
  {
   "cell_type": "markdown",
   "metadata": {
    "id": "NIR7cbTL9agM"
   },
   "source": [
    "Creating a custom tool, however, is very straightforward.\n",
    "\n",
    "> NOTE: You *must* include a docstring, as that is what the LLM will consider when deciding when to use this tool."
   ]
  },
  {
   "cell_type": "code",
   "execution_count": 44,
   "metadata": {
    "id": "sSwO2L_UqFhm"
   },
   "outputs": [],
   "source": [
    "from typing import Annotated, List, Tuple, Union\n",
    "from langchain_core.tools import tool\n",
    "\n",
    "@tool\n",
    "def retrieve_information(\n",
    "    query: Annotated[str, \"query to ask the retrieve information tool\"]\n",
    "    ):\n",
    "  \"\"\"Use Retrieval Augmented Generation to retrieve information about how people use AI\"\"\"\n",
    "  return compiled_rag_graph.invoke({\"question\" : query})"
   ]
  },
  {
   "cell_type": "markdown",
   "metadata": {
    "id": "nxsMnqjpBTCj"
   },
   "source": [
    "> NOTE: We could just as easily use the LCEL chain directly, since nodes can be LCEL objects - but creating a tool helps explain the tool creation process at the same time."
   ]
  },
  {
   "cell_type": "markdown",
   "metadata": {
    "id": "oDHCajO4_gB2"
   },
   "source": [
    "### Research Team State\n",
    "\n",
    "Since we're using LangGraph - we're going to need state!\n",
    "\n",
    "Let's look at how we've created our state below."
   ]
  },
  {
   "cell_type": "code",
   "execution_count": 43,
   "metadata": {
    "id": "mXminK9d_1fa"
   },
   "outputs": [],
   "source": [
    "import functools\n",
    "import operator\n",
    "\n",
    "from langchain_core.messages import AIMessage, BaseMessage, HumanMessage\n",
    "from langchain_openai.chat_models import ChatOpenAI\n",
    "import functools\n",
    "\n",
    "class ResearchTeamState(TypedDict):\n",
    "    messages: Annotated[List[BaseMessage], operator.add]\n",
    "    team_members: List[str]\n",
    "    next: str"
   ]
  },
  {
   "cell_type": "markdown",
   "metadata": {
    "id": "fvPM5msq_18C"
   },
   "source": [
    "Notice how we've used `messages`, `team_members`, and `next`.\n",
    "\n",
    "These states will help us understand:\n",
    "\n",
    "1. What we've done so far (`messages`)\n",
    "2. Which team members we have access to (`team_members`)\n",
    "3. Which team member is up next! (`next`)"
   ]
  },
  {
   "cell_type": "markdown",
   "metadata": {
    "id": "Mu7B_6qHAFjK"
   },
   "source": [
    "### Research Team LLM\n",
    "\n",
    "We'll be using `gpt-4o-mini` today. This LLM is going to be doing a lot of reasoning - but we also want to keep our costs down, so we'll use a lightweight; but powerful, model!"
   ]
  },
  {
   "cell_type": "code",
   "execution_count": 42,
   "metadata": {
    "id": "dTNqrip8AcKR"
   },
   "outputs": [],
   "source": [
    "research_llm = ChatOpenAI(model=\"gpt-4o-mini\")"
   ]
  },
  {
   "cell_type": "markdown",
   "metadata": {
    "id": "pfb_VCNKIy9w"
   },
   "source": [
    "##### ❓ Question #1:\n",
    "\n",
    "1. Why is a \"powerful\" LLM important for this use-case?\n",
    "\n",
    "2. What tasks must our Agent perform that make it such that the LLM's reasoning capability is a potential limiter?\n",
    "\n",
    "##### ✅ Answers:\n",
    "\n",
    "1.1  LLM needs do complex processing. It needs to effectively use tools, understand context across agents, make routing decisions and synthesize info from various sources\n",
    "\n",
    "1.2 YOUR ANSWER HERE\n",
    "- Routing decision: Choose who should run next\n",
    "- Generate coherent responses by understanding info from agents and sources\n",
    "- Tool: Choose right tool for the job"
   ]
  },
  {
   "cell_type": "markdown",
   "metadata": {
    "id": "ZR_1LuMKAekf"
   },
   "source": [
    "### Research Team Agents & Nodes\n",
    "\n",
    "Now we can use our helper functions to create our agent nodes, with their related tools.\n",
    "\n",
    "Let's start with our search agent node."
   ]
  },
  {
   "cell_type": "markdown",
   "metadata": {
    "id": "uzx6wuPoAlPq"
   },
   "source": [
    "#### Research Team: Search Agent\n",
    "\n",
    "We're going to give our agent access to the Tavily tool, power it with our GPT-4o Mini model, and then create its node - and name it `Search`."
   ]
  },
  {
   "cell_type": "code",
   "execution_count": 38,
   "metadata": {
    "id": "FIlLPxj7Atpj"
   },
   "outputs": [],
   "source": [
    "search_agent = create_agent(\n",
    "    research_llm,\n",
    "    [tavily_tool],\n",
    "    \"You are a research assistant who can search for up-to-date info using the tavily search engine.\",\n",
    ")\n",
    "search_node = functools.partial(agent_node, agent=search_agent, name=\"Search\")"
   ]
  },
  {
   "cell_type": "markdown",
   "metadata": {
    "id": "emLtesudA9Dd"
   },
   "source": [
    "#### Research Team: RAG Agent Node\n",
    "\n",
    "Now we can wrap our LCEL RAG pipeline in an agent node as well, using the LCEL RAG pipeline as the tool, as created above."
   ]
  },
  {
   "cell_type": "code",
   "execution_count": 40,
   "metadata": {
    "id": "z-nnAG9XA_p7"
   },
   "outputs": [],
   "source": [
    "research_agent = create_agent(\n",
    "    research_llm,\n",
    "    [retrieve_information],\n",
    "    \"You are a research assistant who can provide specific information on how people use AI\",\n",
    ")\n",
    "research_node = functools.partial(agent_node, agent=research_agent, name=\"HowPeopleUseAIRetriever\")"
   ]
  },
  {
   "cell_type": "markdown",
   "metadata": {
    "id": "dA5z6T1CBeSc"
   },
   "source": [
    "### Research Team Supervisor Agent\n",
    "\n",
    "Notice that we're not yet creating our supervisor *node*, simply the agent here.\n",
    "\n",
    "Also notice how we need to provide a few extra pieces of information - including which tools we're using.\n",
    "\n",
    "> NOTE: It's important to use the *exact* tool name, as that is how the LLM will reference the tool. Also, it's important that your tool name is all a single alphanumeric string!\n",
    "\n"
   ]
  },
  {
   "cell_type": "code",
   "execution_count": 47,
   "metadata": {
    "id": "J0g8CQMBrtFs"
   },
   "outputs": [
    {
     "name": "stderr",
     "output_type": "stream",
     "text": [
      "/var/folders/0j/52nrhqqd6hq140jsz5rrd5km0000gq/T/ipykernel_36373/488856706.py:34: LangChainDeprecationWarning: The method `BaseChatOpenAI.bind_functions` was deprecated in langchain-openai 0.2.1 and will be removed in 1.0.0. Use :meth:`~langchain_openai.chat_models.base.ChatOpenAI.bind_tools` instead.\n",
      "  | llm.bind_functions(functions=[function_def], function_call=\"route\")\n"
     ]
    }
   ],
   "source": [
    "research_supervisor_agent = create_team_supervisor(\n",
    "    research_llm,\n",
    "    (\"You are a supervisor tasked with managing a conversation between the\"\n",
    "    \" following workers:  Search, HowPeopleUseAIRetriever. Given the following user request,\"\n",
    "    \" determine the subject to be researched and respond with the worker to act next. Each worker will perform a\"\n",
    "    \" task and respond with their results and status. \"\n",
    "    \" You should never ask your team to do anything beyond research. They are not required to write content or posts.\"\n",
    "    \" You should only pass tasks to workers that are specifically research focused.\"\n",
    "    \" When finished, respond with FINISH.\"),\n",
    "    [\"Search\", \"HowPeopleUseAIRetriever\"],\n",
    ")"
   ]
  },
  {
   "cell_type": "markdown",
   "metadata": {
    "id": "qohn0DcgB_U1"
   },
   "source": [
    "### Research Team Graph Creation\n",
    "\n",
    "Now that we have our research team agent nodes created, and our supervisor agent - let's finally construct our graph!\n",
    "\n",
    "We'll start by creating our base graph from our state, and then adding the nodes/agent we've created as nodes on our LangGraph."
   ]
  },
  {
   "cell_type": "code",
   "execution_count": 48,
   "metadata": {
    "id": "p0s2GAgJCN8G"
   },
   "outputs": [
    {
     "data": {
      "text/plain": [
       "<langgraph.graph.state.StateGraph at 0x11ce111d0>"
      ]
     },
     "execution_count": 48,
     "metadata": {},
     "output_type": "execute_result"
    }
   ],
   "source": [
    "research_graph = StateGraph(ResearchTeamState)\n",
    "\n",
    "research_graph.add_node(\"Search\", search_node)\n",
    "research_graph.add_node(\"HowPeopleUseAIRetriever\", research_node)\n",
    "research_graph.add_node(\"ResearchSupervisor\", research_supervisor_agent)"
   ]
  },
  {
   "cell_type": "markdown",
   "metadata": {
    "id": "33qixRGNCaAX"
   },
   "source": [
    "Now we can define our edges - include our conditional edge from our supervisor to our agent nodes.\n",
    "\n",
    "Notice how we're always routing our agent nodes back to our supervisor!"
   ]
  },
  {
   "cell_type": "code",
   "execution_count": 81,
   "metadata": {
    "id": "yYSJIhijsGyg"
   },
   "outputs": [
    {
     "name": "stderr",
     "output_type": "stream",
     "text": [
      "WARNING:langgraph.graph.state:Adding an edge to a graph that has already been compiled. This will not be reflected in the compiled graph.\n",
      "WARNING:langgraph.graph.state:Adding an edge to a graph that has already been compiled. This will not be reflected in the compiled graph.\n",
      "WARNING:langgraph.graph.state:Adding an edge to a graph that has already been compiled. This will not be reflected in the compiled graph.\n"
     ]
    },
    {
     "ename": "ValueError",
     "evalue": "Branch with name `None` already exists for node `ResearchSupervisor`",
     "output_type": "error",
     "traceback": [
      "\u001b[31m---------------------------------------------------------------------------\u001b[39m",
      "\u001b[31mValueError\u001b[39m                                Traceback (most recent call last)",
      "\u001b[36mCell\u001b[39m\u001b[36m \u001b[39m\u001b[32mIn[81]\u001b[39m\u001b[32m, line 3\u001b[39m\n\u001b[32m      1\u001b[39m research_graph.add_edge(\u001b[33m\"\u001b[39m\u001b[33mSearch\u001b[39m\u001b[33m\"\u001b[39m, \u001b[33m\"\u001b[39m\u001b[33mResearchSupervisor\u001b[39m\u001b[33m\"\u001b[39m) \n\u001b[32m      2\u001b[39m research_graph.add_edge(\u001b[33m\"\u001b[39m\u001b[33mHowPeopleUseAIRetriever\u001b[39m\u001b[33m\"\u001b[39m, \u001b[33m\"\u001b[39m\u001b[33mResearchSupervisor\u001b[39m\u001b[33m\"\u001b[39m)\n\u001b[32m----> \u001b[39m\u001b[32m3\u001b[39m \u001b[43mresearch_graph\u001b[49m\u001b[43m.\u001b[49m\u001b[43madd_conditional_edges\u001b[49m\u001b[43m(\u001b[49m\n\u001b[32m      4\u001b[39m \u001b[43m    \u001b[49m\u001b[33;43m\"\u001b[39;49m\u001b[33;43mResearchSupervisor\u001b[39;49m\u001b[33;43m\"\u001b[39;49m\u001b[43m,\u001b[49m\n\u001b[32m      5\u001b[39m \u001b[43m    \u001b[49m\u001b[38;5;28;43;01mlambda\u001b[39;49;00m\u001b[43m \u001b[49m\u001b[43mx\u001b[49m\u001b[43m:\u001b[49m\u001b[43m \u001b[49m\u001b[43mx\u001b[49m\u001b[43m[\u001b[49m\u001b[33;43m\"\u001b[39;49m\u001b[33;43mnext\u001b[39;49m\u001b[33;43m\"\u001b[39;49m\u001b[43m]\u001b[49m\u001b[43m,\u001b[49m\n\u001b[32m      6\u001b[39m \u001b[43m    \u001b[49m\u001b[43m{\u001b[49m\u001b[33;43m\"\u001b[39;49m\u001b[33;43mSearch\u001b[39;49m\u001b[33;43m\"\u001b[39;49m\u001b[43m:\u001b[49m\u001b[43m \u001b[49m\u001b[33;43m\"\u001b[39;49m\u001b[33;43mSearch\u001b[39;49m\u001b[33;43m\"\u001b[39;49m\u001b[43m,\u001b[49m\u001b[43m \u001b[49m\u001b[33;43m\"\u001b[39;49m\u001b[33;43mHowPeopleUseAIRetriever\u001b[39;49m\u001b[33;43m\"\u001b[39;49m\u001b[43m:\u001b[49m\u001b[43m \u001b[49m\u001b[33;43m\"\u001b[39;49m\u001b[33;43mHowPeopleUseAIRetriever\u001b[39;49m\u001b[33;43m\"\u001b[39;49m\u001b[43m,\u001b[49m\u001b[43m \u001b[49m\u001b[33;43m\"\u001b[39;49m\u001b[33;43mFINISH\u001b[39;49m\u001b[33;43m\"\u001b[39;49m\u001b[43m:\u001b[49m\u001b[43m \u001b[49m\u001b[43mEND\u001b[49m\u001b[43m}\u001b[49m\u001b[43m,\u001b[49m\n\u001b[32m      7\u001b[39m \u001b[43m)\u001b[49m\n\u001b[32m      8\u001b[39m research_graph.set_entry_point(\u001b[33m\"\u001b[39m\u001b[33mResearchSupervisor\u001b[39m\u001b[33m\"\u001b[39m)\n",
      "\u001b[36mFile \u001b[39m\u001b[32m~/ai-course-projects/aie8/AIE8/06_Multi_Agent_with_LangGraph/.venv/lib/python3.13/site-packages/langgraph/graph/state.py:644\u001b[39m, in \u001b[36mStateGraph.add_conditional_edges\u001b[39m\u001b[34m(self, source, path, path_map)\u001b[39m\n\u001b[32m    642\u001b[39m \u001b[38;5;66;03m# validate the condition\u001b[39;00m\n\u001b[32m    643\u001b[39m \u001b[38;5;28;01mif\u001b[39;00m name \u001b[38;5;129;01min\u001b[39;00m \u001b[38;5;28mself\u001b[39m.branches[source]:\n\u001b[32m--> \u001b[39m\u001b[32m644\u001b[39m     \u001b[38;5;28;01mraise\u001b[39;00m \u001b[38;5;167;01mValueError\u001b[39;00m(\n\u001b[32m    645\u001b[39m         \u001b[33mf\u001b[39m\u001b[33m\"\u001b[39m\u001b[33mBranch with name `\u001b[39m\u001b[38;5;132;01m{\u001b[39;00mpath.name\u001b[38;5;132;01m}\u001b[39;00m\u001b[33m` already exists for node `\u001b[39m\u001b[38;5;132;01m{\u001b[39;00msource\u001b[38;5;132;01m}\u001b[39;00m\u001b[33m`\u001b[39m\u001b[33m\"\u001b[39m\n\u001b[32m    646\u001b[39m     )\n\u001b[32m    647\u001b[39m \u001b[38;5;66;03m# save it\u001b[39;00m\n\u001b[32m    648\u001b[39m \u001b[38;5;28mself\u001b[39m.branches[source][name] = BranchSpec.from_path(path, path_map, \u001b[38;5;28;01mTrue\u001b[39;00m)\n",
      "\u001b[31mValueError\u001b[39m: Branch with name `None` already exists for node `ResearchSupervisor`"
     ]
    }
   ],
   "source": [
    "research_graph.add_edge(\"Search\", \"ResearchSupervisor\") \n",
    "research_graph.add_edge(\"HowPeopleUseAIRetriever\", \"ResearchSupervisor\")\n",
    "research_graph.add_conditional_edges(\n",
    "    \"ResearchSupervisor\",\n",
    "    lambda x: x[\"next\"],\n",
    "    {\"Search\": \"Search\", \"HowPeopleUseAIRetriever\": \"HowPeopleUseAIRetriever\", \"FINISH\": END},\n",
    ")\n",
    "research_graph.set_entry_point(\"ResearchSupervisor\")"
   ]
  },
  {
   "cell_type": "markdown",
   "metadata": {
    "id": "hgGcuZzkCj1-"
   },
   "source": [
    "Now we can set our supervisor node as the entry point, and compile our graph!"
   ]
  },
  {
   "cell_type": "code",
   "execution_count": 51,
   "metadata": {
    "id": "1l-1I2Z3CnPX"
   },
   "outputs": [],
   "source": [
    "compiled_research_graph = research_graph.compile()"
   ]
  },
  {
   "cell_type": "markdown",
   "metadata": {
    "id": "GDwQpYTSEY13"
   },
   "source": [
    "#### Display Graph"
   ]
  },
  {
   "cell_type": "code",
   "execution_count": 52,
   "metadata": {},
   "outputs": [
    {
     "data": {
      "image/png": "[encoded data removed]",
      "text/plain": [
       "<langgraph.graph.state.CompiledStateGraph object at 0x11d225810>"
      ]
     },
     "execution_count": 52,
     "metadata": {},
     "output_type": "execute_result"
    }
   ],
   "source": [
    "compiled_research_graph"
   ]
  },
  {
   "cell_type": "markdown",
   "metadata": {
    "id": "bfRvA2QfCqFL"
   },
   "source": [
    "The next part is key - since we need to \"wrap\" our LangGraph in order for it to be compatible in the following steps - let's create an LCEL chain out of it!\n",
    "\n",
    "This allows us to \"broadcast\" messages down to our Research Team LangGraph!"
   ]
  },
  {
   "cell_type": "code",
   "execution_count": 53,
   "metadata": {
    "id": "1G7hmEINCx3i"
   },
   "outputs": [],
   "source": [
    "def enter_research_chain(message: str):\n",
    "    results = {\n",
    "        \"messages\": [HumanMessage(content=message)],\n",
    "    }\n",
    "    return results\n",
    "\n",
    "research_chain = enter_research_chain | compiled_research_graph"
   ]
  },
  {
   "cell_type": "markdown",
   "metadata": {
    "id": "EGdoCdXWC7Pi"
   },
   "source": [
    "Now, finally, we can take it for a spin!"
   ]
  },
  {
   "cell_type": "code",
   "execution_count": 54,
   "metadata": {
    "colab": {
     "base_uri": "https://localhost:8080/"
    },
    "id": "xIDpFIg2sRUl",
    "outputId": "bb3803d4-5b32-4b0a-c8a1-1a1917425812"
   },
   "outputs": [
    {
     "name": "stdout",
     "output_type": "stream",
     "text": [
      "{'ResearchSupervisor': {'next': 'HowPeopleUseAIRetriever'}}\n",
      "---\n",
      "{'HowPeopleUseAIRetriever': {'messages': [HumanMessage(content='People are using AI, particularly ChatGPT, to improve their lives in several significant ways. The primary areas of application include:\\n\\n1. **Practical Guidance**: Users frequently seek advice and guidance on various topics. This includes how-to advice, tutoring or teaching assistance, and general information requests.\\n\\n2. **Writing Assistance**: A large percentage of interactions revolve around writing tasks—many users ask for help in modifying existing text rather than creating entirely new content. This is particularly beneficial in professional settings where effective written communication is crucial.\\n\\n3. **Problem-Solving**: People use AI to obtain answers to problems or to seek clarification on various subjects. This decision support capability can enhance productivity and improve the quality of decision-making, especially in knowledge-intensive jobs.\\n\\n4. **Personalized Responses**: AI can provide tailored responses that cater to specific user needs, such as generating workout plans or offering relationship advice. This personalized touch helps users navigate daily challenges and improve their personal well-being.\\n\\n5. **Non-Work Related Use**: There has been a notable increase in non-work-related queries, suggesting that users derive significant value from AI in their personal lives. This includes self-expression and support for learning and reflection.\\n\\nOverall, the use of AI, especially in the form of generative models, not only enhances work-related productivity but also contributes to various aspects of personal development and welfare.', additional_kwargs={}, response_metadata={}, name='HowPeopleUseAIRetriever')]}}\n",
      "---\n",
      "{'ResearchSupervisor': {'next': 'FINISH'}}\n",
      "---\n"
     ]
    }
   ],
   "source": [
    "for s in research_chain.stream(\n",
    "    \"How are people using AI to improve their lives?\", {\"recursion_limit\": 100}\n",
    "):\n",
    "    if \"__end__\" not in s:\n",
    "        print(s)\n",
    "        print(\"---\")"
   ]
  },
  {
   "cell_type": "markdown",
   "metadata": {
    "id": "DHAgsbwIIhwj"
   },
   "source": [
    "##### 🏗️ Activity #2:\n",
    "\n",
    "Using whatever drawing application you wish - please label the flow above on a diagram of your graph.\n",
    "- Flow is \n",
    "  - ResearchSupervisor decides who is next. Each node completes its task and control goes back to ResearchSupervisor  \n",
    "  - Search completes and invokes ResearchSupervisor\n",
    "  - HowPeopleUseAIRetriever completes and invokes ResearchSupervisor\n"
   ]
  },
  {
   "cell_type": "markdown",
   "metadata": {
    "id": "eH70eHGlJbq4"
   },
   "source": [
    "##### ❓ Question #2:\n",
    "\n",
    "How could you make sure your Agent uses specific tools that you wish it to use? Are there any ways to concretely set a flow through tools?\n",
    "\n",
    "##### ✅ Answer:\n",
    "\n",
    " - use tools array to provided specific tools\n",
    " - function calling: Bind functions to llm\n",
    " - add custom tool selector function definition\n",
    "\n"
   ]
  },
  {
   "cell_type": "markdown",
   "metadata": {
    "id": "iktcBorGXmAW"
   },
   "source": [
    "# 🤝 BREAKOUT ROOM #2"
   ]
  },
  {
   "cell_type": "markdown",
   "metadata": {
    "id": "ejsHCZZ2EmwM"
   },
   "source": [
    "## Task 4: Document Writing Team - A LangGraph for Planning, Writing, and Editing a Formal Research Resport.\n",
    "\n",
    "Let's run it all back, this time specifically creating tools, agent nodes, and a graph for Planning, Writing, and Editing a Formal Research Resport!"
   ]
  },
  {
   "cell_type": "markdown",
   "metadata": {},
   "source": [
    "#### Previous Cohort Use Case Data\n",
    "\n",
    "Let's add a retriever for [previous cohort use-case data](./data/AIE7_Projects_with_Domains.csv) here!\n",
    "\n",
    "This will allow our response writing team reference previous responses!"
   ]
  },
  {
   "cell_type": "code",
   "execution_count": 55,
   "metadata": {},
   "outputs": [
    {
     "data": {
      "text/plain": [
       "Document(metadata={'source': 'data/AIE7_Projects_with_Domains.csv', 'row': 0}, page_content='Project Domain: Customer Support / Helpdesk\\nSecondary Domain (if any): Productivity Assistants')"
      ]
     },
     "execution_count": 55,
     "metadata": {},
     "output_type": "execute_result"
    }
   ],
   "source": [
    "from langchain_community.document_loaders import CSVLoader\n",
    "\n",
    "previous_cohort_loader = CSVLoader(\"data/AIE7_Projects_with_Domains.csv\", content_columns=[\"Project Domain\", \"Secondary Domain (if any)\"])\n",
    "previous_cohort = previous_cohort_loader.load()\n",
    "previous_cohort[0]"
   ]
  },
  {
   "cell_type": "code",
   "execution_count": 57,
   "metadata": {},
   "outputs": [],
   "source": [
    "qdrant_previous_cohort_vectorstore = Qdrant.from_documents(\n",
    "    documents=previous_cohort,\n",
    "    embedding=embedding_model,\n",
    "    location=\":memory:\"\n",
    ")"
   ]
  },
  {
   "cell_type": "code",
   "execution_count": 58,
   "metadata": {},
   "outputs": [],
   "source": [
    "qdrant_previous_cohort_retriever = qdrant_previous_cohort_vectorstore.as_retriever()"
   ]
  },
  {
   "cell_type": "markdown",
   "metadata": {
    "id": "4awQtZ-oFUN-"
   },
   "source": [
    "### Tool Creation\n",
    "\n",
    "Let's create some tools that will help us understand, open, work with, and edit documents to our liking!"
   ]
  },
  {
   "cell_type": "code",
   "execution_count": 59,
   "metadata": {
    "id": "ptXilgparOkq"
   },
   "outputs": [],
   "source": [
    "from pathlib import Path\n",
    "from tempfile import TemporaryDirectory\n",
    "from typing import Dict, Optional\n",
    "from typing_extensions import TypedDict\n",
    "import uuid\n",
    "import os\n",
    "\n",
    "os.makedirs('./content/data', exist_ok=True)\n",
    "\n",
    "def create_random_subdirectory():\n",
    "    random_id = str(uuid.uuid4())[:8]  # Use first 8 characters of a UUID\n",
    "    subdirectory_path = os.path.join('./content/data', random_id)\n",
    "    os.makedirs(subdirectory_path, exist_ok=True)\n",
    "    return subdirectory_path\n",
    "\n",
    "WORKING_DIRECTORY = Path(create_random_subdirectory())\n",
    "\n",
    "@tool\n",
    "def create_outline(\n",
    "    points: Annotated[List[str], \"List of main points or sections.\"],\n",
    "    file_name: Annotated[str, \"File path to save the outline.\"],\n",
    ") -> Annotated[str, \"Path of the saved outline file.\"]:\n",
    "    \"\"\"Create and save an outline.\"\"\"\n",
    "    with (WORKING_DIRECTORY / file_name).open(\"w\") as file:\n",
    "        for i, point in enumerate(points):\n",
    "            file.write(f\"{i + 1}. {point}\\n\")\n",
    "    return f\"Outline saved to {file_name}\"\n",
    "\n",
    "\n",
    "@tool\n",
    "def read_document(\n",
    "    file_name: Annotated[str, \"File path to save the document.\"],\n",
    "    start: Annotated[Optional[int], \"The start line. Default is 0\"] = None,\n",
    "    end: Annotated[Optional[int], \"The end line. Default is None\"] = None,\n",
    ") -> str:\n",
    "    \"\"\"Read the specified document.\"\"\"\n",
    "    with (WORKING_DIRECTORY / file_name).open(\"r\") as file:\n",
    "        lines = file.readlines()\n",
    "    if start is not None:\n",
    "        start = 0\n",
    "    return \"\\n\".join(lines[start:end])\n",
    "\n",
    "@tool\n",
    "def write_document(\n",
    "    content: Annotated[str, \"Text content to be written into the document.\"],\n",
    "    file_name: Annotated[str, \"File path to save the document.\"],\n",
    ") -> Annotated[str, \"Path of the saved document file.\"]:\n",
    "    \"\"\"Create and save a text document.\"\"\"\n",
    "    with (WORKING_DIRECTORY / file_name).open(\"w\") as file:\n",
    "        file.write(content)\n",
    "    return f\"Document saved to {file_name}\"\n",
    "\n",
    "### Previous Cohort Use Case Data\n",
    "@tool \n",
    "def reference_previous_responses(\n",
    "    query: Annotated[str, \"The query to search for in the previous responses.\"],\n",
    ") -> Annotated[str, \"The previous responses that match the query.\"]:\n",
    "    \"\"\"Search for previous responses that match the query.\"\"\"\n",
    "    return qdrant_previous_cohort_retriever.invoke(query)\n",
    "\n",
    "\n",
    "@tool\n",
    "def edit_document(\n",
    "    file_name: Annotated[str, \"Path of the document to be edited.\"],\n",
    "    inserts: Annotated[\n",
    "        Dict[int, str],\n",
    "        \"Dictionary where key is the line number (1-indexed) and value is the text to be inserted at that line.\",\n",
    "    ] = {},\n",
    ") -> Annotated[str, \"Path of the edited document file.\"]:\n",
    "    \"\"\"Edit a document by inserting text at specific line numbers.\"\"\"\n",
    "\n",
    "    with (WORKING_DIRECTORY / file_name).open(\"r\") as file:\n",
    "        lines = file.readlines()\n",
    "\n",
    "    sorted_inserts = sorted(inserts.items())\n",
    "\n",
    "    for line_number, text in sorted_inserts:\n",
    "        if 1 <= line_number <= len(lines) + 1:\n",
    "            lines.insert(line_number - 1, text + \"\\n\")\n",
    "        else:\n",
    "            return f\"Error: Line number {line_number} is out of range.\"\n",
    "\n",
    "    with (WORKING_DIRECTORY / file_name).open(\"w\") as file:\n",
    "        file.writelines(lines)\n",
    "\n",
    "    return f\"Document edited and saved to {file_name}\""
   ]
  },
  {
   "cell_type": "markdown",
   "metadata": {
    "id": "n8yH1IAYK7nL"
   },
   "source": [
    "##### 🏗️ Activity #3:\n",
    "\n",
    "Describe, briefly, what each of these tools is doing in your own words.\n",
    "1. create_random_subdirectory \n",
    "     - Create random data directory\n",
    "2. create outline: \n",
    "     - Save outline to file\n",
    "3. read document\n",
    "    - read specified document\n",
    "4. write document\n",
    "    - write content to specified file\n",
    "5. reference previous responses\n",
    "   - lookup query in previous responses\n",
    "6. edit \n",
    "    - edit document at specified lines \n",
    "\n",
    "\n"
   ]
  },
  {
   "cell_type": "markdown",
   "metadata": {
    "id": "__Jw_XBIFwwa"
   },
   "source": [
    "### Document Writing State\n",
    "\n",
    "Just like with our Research Team state - we want to keep track of a few things, however this time - we also want to keep track of which files we've created - so let's add that here!"
   ]
  },
  {
   "cell_type": "code",
   "execution_count": 60,
   "metadata": {
    "id": "DoU2YwJRu7wD"
   },
   "outputs": [],
   "source": [
    "import operator\n",
    "from pathlib import Path\n",
    "\n",
    "class DocWritingState(TypedDict):\n",
    "    messages: Annotated[List[BaseMessage], operator.add]\n",
    "    team_members: str\n",
    "    next: str\n",
    "    current_files: str"
   ]
  },
  {
   "cell_type": "markdown",
   "metadata": {
    "id": "4p1kQShmGHCh"
   },
   "source": [
    "### Document Writing Prelude Function\n",
    "\n",
    "Since we have a working directory - we want to be clear about what our current working directory looks like - this helper function will allow us to do that cleanly!"
   ]
  },
  {
   "cell_type": "code",
   "execution_count": 61,
   "metadata": {
    "id": "G79mUggQGLVq"
   },
   "outputs": [],
   "source": [
    "def prelude(state):\n",
    "    written_files = []\n",
    "    if not WORKING_DIRECTORY.exists():\n",
    "        WORKING_DIRECTORY.mkdir()\n",
    "    try:\n",
    "        written_files = [\n",
    "            f.relative_to(WORKING_DIRECTORY) for f in WORKING_DIRECTORY.rglob(\"*\")\n",
    "        ]\n",
    "    except:\n",
    "        pass\n",
    "    if not written_files:\n",
    "        return {**state, \"current_files\": \"No files written.\"}\n",
    "    return {\n",
    "        **state,\n",
    "        \"current_files\": \"\\nBelow are files your team has written to the directory:\\n\"\n",
    "        + \"\\n\".join([f\" - {f}\" for f in written_files]),\n",
    "    }"
   ]
  },
  {
   "cell_type": "markdown",
   "metadata": {
    "id": "wbSre9agT9Gb"
   },
   "source": [
    "### Document Writing Node Creation\n",
    "\n"
   ]
  },
  {
   "cell_type": "code",
   "execution_count": 62,
   "metadata": {},
   "outputs": [],
   "source": [
    "authoring_llm = ChatOpenAI(model=\"gpt-4o-mini\")"
   ]
  },
  {
   "cell_type": "code",
   "execution_count": 64,
   "metadata": {
    "id": "v7oso327T_wa"
   },
   "outputs": [],
   "source": [
    "doc_writer_agent = create_agent(\n",
    "    authoring_llm,\n",
    "    [write_document, edit_document, read_document],\n",
    "    (\"You are an expert writing customer assistance responses.\\n\"\n",
    "    \"Below are files currently in your directory:\\n{current_files}\"),\n",
    ")\n",
    "context_aware_doc_writer_agent = prelude | doc_writer_agent\n",
    "doc_writing_node = functools.partial(\n",
    "    agent_node, agent=context_aware_doc_writer_agent, name=\"DocWriter\"\n",
    ")\n",
    "\n",
    "note_taking_agent = create_agent(\n",
    "    authoring_llm,\n",
    "    [create_outline, read_document, reference_previous_responses],\n",
    "    (\"You are an expert senior researcher tasked with writing a customer assistance outline and\"\n",
    "    \" taking notes to craft a customer assistance response.\\n{current_files}\"),\n",
    ")\n",
    "context_aware_note_taking_agent = prelude | note_taking_agent\n",
    "note_taking_node = functools.partial(\n",
    "    agent_node, agent=context_aware_note_taking_agent, name=\"NoteTaker\"\n",
    ")\n",
    "\n",
    "copy_editor_agent = create_agent(\n",
    "    authoring_llm,\n",
    "    [write_document, edit_document, read_document],\n",
    "    (\"You are an expert copy editor who focuses on fixing grammar, spelling, and tone issues\\n\"\n",
    "    \"Below are files currently in your directory:\\n{current_files}\"),\n",
    ")\n",
    "context_aware_copy_editor_agent = prelude | copy_editor_agent\n",
    "copy_editing_node = functools.partial(\n",
    "    agent_node, agent=context_aware_copy_editor_agent, name=\"CopyEditor\"\n",
    ")\n",
    "\n",
    "authoring_supervisor_agent = create_team_supervisor(\n",
    "    authoring_llm,\n",
    "    (\"You are a supervisor tasked with managing a conversation between the\"\n",
    "    \" following workers: {team_members}. You should always verify the technical\"\n",
    "    \" contents after any edits are made. \"\n",
    "    \"Given the following user request,\"\n",
    "    \" respond with the worker to act next. Each worker will perform a\"\n",
    "    \" task and respond with their results and status. When each team is finished,\"\n",
    "    \" you must respond with FINISH.\"),\n",
    "    [\"DocWriter\", \"NoteTaker\", \"CopyEditor\"],\n",
    ")"
   ]
  },
  {
   "cell_type": "markdown",
   "metadata": {
    "id": "AUiNMpJBGXN0"
   },
   "source": [
    "### Document Writing Team LangGraph Construction\n",
    "\n",
    "This part is almost exactly the same (with a few extra nodes) as our Research Team LangGraph construction - so we'll leave it as one block!"
   ]
  },
  {
   "cell_type": "code",
   "execution_count": 66,
   "metadata": {
    "id": "Q6n8A1ytxVTv"
   },
   "outputs": [
    {
     "data": {
      "text/plain": [
       "<langgraph.graph.state.StateGraph at 0x11e56da70>"
      ]
     },
     "execution_count": 66,
     "metadata": {},
     "output_type": "execute_result"
    }
   ],
   "source": [
    "authoring_graph = StateGraph(DocWritingState)\n",
    "authoring_graph.add_node(\"DocWriter\", doc_writing_node)\n",
    "authoring_graph.add_node(\"NoteTaker\", note_taking_node)\n",
    "authoring_graph.add_node(\"CopyEditor\", copy_editing_node)\n",
    "authoring_graph.add_node(\"AuthoringSupervisor\", authoring_supervisor_agent)\n",
    "\n",
    "authoring_graph.add_edge(\"DocWriter\", \"AuthoringSupervisor\")\n",
    "authoring_graph.add_edge(\"NoteTaker\", \"AuthoringSupervisor\")\n",
    "authoring_graph.add_edge(\"CopyEditor\", \"AuthoringSupervisor\")\n",
    "\n",
    "authoring_graph.add_conditional_edges(\n",
    "    \"AuthoringSupervisor\",\n",
    "    lambda x: x[\"next\"],\n",
    "    {\n",
    "        \"DocWriter\": \"DocWriter\",\n",
    "        \"NoteTaker\": \"NoteTaker\",\n",
    "        \"CopyEditor\" : \"CopyEditor\",\n",
    "        \"FINISH\": END,\n",
    "    },\n",
    ")\n",
    "\n",
    "authoring_graph.set_entry_point(\"AuthoringSupervisor\")"
   ]
  },
  {
   "cell_type": "code",
   "execution_count": 67,
   "metadata": {},
   "outputs": [],
   "source": [
    "compiled_authoring_graph = authoring_graph.compile()"
   ]
  },
  {
   "cell_type": "markdown",
   "metadata": {
    "id": "Zx-EKGkHKUBO"
   },
   "source": [
    "#### Display Graph"
   ]
  },
  {
   "cell_type": "code",
   "execution_count": 68,
   "metadata": {},
   "outputs": [
    {
     "data": {
      "image/png": "[encoded data removed]",
      "text/plain": [
       "<langgraph.graph.state.CompiledStateGraph object at 0x11e56d6e0>"
      ]
     },
     "execution_count": 68,
     "metadata": {},
     "output_type": "execute_result"
    }
   ],
   "source": [
    "compiled_authoring_graph"
   ]
  },
  {
   "cell_type": "markdown",
   "metadata": {
    "id": "yB_rOw1hGpwd"
   },
   "source": [
    "Just as before - we'll need to create an \"interface\" between the level above, and our graph."
   ]
  },
  {
   "cell_type": "code",
   "execution_count": 69,
   "metadata": {
    "id": "G-RbbCKoG_nt"
   },
   "outputs": [],
   "source": [
    "def enter_authoring_chain(message: str, members: List[str]):\n",
    "    results = {\n",
    "        \"messages\": [HumanMessage(content=message)],\n",
    "        \"team_members\": \", \".join(members),\n",
    "    }\n",
    "    return results\n",
    "\n",
    "authoring_chain = (\n",
    "    functools.partial(enter_authoring_chain, members=authoring_graph.nodes)\n",
    "    | compiled_authoring_graph\n",
    ")"
   ]
  },
  {
   "cell_type": "markdown",
   "metadata": {
    "id": "GgyhpTrRNgQd"
   },
   "source": [
    "Now we can test this out!\n",
    "\n",
    "> NOTE: It is possible you may see an error here - rerun the cell to clear."
   ]
  },
  {
   "cell_type": "code",
   "execution_count": 70,
   "metadata": {
    "colab": {
     "base_uri": "https://localhost:8080/"
    },
    "id": "IWUxv4XDx3kg",
    "outputId": "62ee7d3d-31ba-4348-b852-7fd96f6875ff"
   },
   "outputs": [
    {
     "name": "stdout",
     "output_type": "stream",
     "text": [
      "{'AuthoringSupervisor': {'next': 'DocWriter'}}\n",
      "---\n",
      "{'DocWriter': {'messages': [HumanMessage(content='The most common use cases and domains for customer assistance typically include:\\n\\n1. **E-commerce Support:**\\n   - Order tracking and status inquiries.\\n   - Product information and recommendations.\\n   - Return and refund processing.\\n\\n2. **Technical Support:**\\n   - Troubleshooting software or hardware issues.\\n   - Providing installation assistance.\\n   - Assisting with account recovery or password resets.\\n\\n3. **Billing and Account Management:**\\n   - Inquiries regarding billing statements.\\n   - Updating payment methods or account information.\\n   - Subscription management.\\n\\n4. **Travel and Hospitality:**\\n   - Booking assistance and itinerary changes.\\n   - Providing information on flight status, cancellations, and delays.\\n   - Handling customer complaints regarding travel services.\\n\\n5. **Telecommunications:**\\n   - Service activation and troubleshooting.\\n   - Plan changes and upgrades.\\n   - Addressing network issues or outages.\\n\\n6. **Healthcare:**\\n   - Scheduling appointments or consultations.\\n   - Providing medical information or guidance.\\n   - Handling insurance claims or billing questions.\\n\\n7. **Education Services:**\\n   - Enrollment and course registration support.\\n   - Providing information on academic programs.\\n   - Handling inquiries related to financial aid.\\n\\nThese domains generally focus on enhancing customer satisfaction by resolving inquiries promptly and effectively, which is crucial for maintaining customer loyalty and trust.', additional_kwargs={}, response_metadata={}, name='DocWriter')]}}\n",
      "---\n",
      "{'AuthoringSupervisor': {'next': 'NoteTaker'}}\n",
      "---\n",
      "{'NoteTaker': {'messages': [HumanMessage(content='I have created an outline for customer assistance use cases and domains, which includes sections for various categories such as E-commerce Support, Technical Support, and others. The outline has been saved successfully to a file named \"customer_assistance_outline.md.\"', additional_kwargs={}, response_metadata={}, name='NoteTaker')]}}\n",
      "---\n",
      "{'AuthoringSupervisor': {'next': 'CopyEditor'}}\n",
      "---\n",
      "{'CopyEditor': {'messages': [HumanMessage(content='I have successfully edited and enhanced the \"customer_assistance_outline.md\" file. The outline now includes detailed descriptions for each section, providing a clear overview of various customer assistance use cases and domains.', additional_kwargs={}, response_metadata={}, name='CopyEditor')]}}\n",
      "---\n",
      "{'AuthoringSupervisor': {'next': 'FINISH'}}\n",
      "---\n"
     ]
    }
   ],
   "source": [
    "for s in authoring_chain.stream(\n",
    "    \"What are the most common use-cases in this data. What are the most common domains?\",\n",
    "    {\"recursion_limit\": 100},\n",
    "):\n",
    "    if \"__end__\" not in s:\n",
    "        print(s)\n",
    "        print(\"---\")"
   ]
  },
  {
   "cell_type": "markdown",
   "metadata": {
    "id": "zpW2R9SUHGUq"
   },
   "source": [
    "## Task 5: Meta-Supervisor and Full Graph\n",
    "\n",
    "Finally, now that we have our two LangGraph agents (some of which are already multi-agent), we can build a supervisor that sits above all of them!\n",
    "\n",
    "The final process, surprisingly, is quite straight forward!\n",
    "\n",
    "Let's jump in!\n",
    "\n",
    "First off - we'll need to create our supervisor agent node."
   ]
  },
  {
   "cell_type": "code",
   "execution_count": 71,
   "metadata": {
    "id": "wkpxeUf9ygKp"
   },
   "outputs": [],
   "source": [
    "from langchain_core.messages import AIMessage, BaseMessage, HumanMessage\n",
    "from langchain_openai.chat_models import ChatOpenAI\n",
    "\n",
    "super_llm = ChatOpenAI(model=\"gpt-4o-mini\")\n",
    "\n",
    "super_supervisor_agent = create_team_supervisor(\n",
    "    super_llm,\n",
    "    \"You are a supervisor tasked with managing a conversation between the\"\n",
    "    \" following teams: {team_members}. Given the following user request,\"\n",
    "    \" respond with the worker to act next. Each worker will perform a\"\n",
    "    \" task and respond with their results and status. When all workers are finished,\"\n",
    "    \" you must respond with FINISH.\",\n",
    "    [\"Research team\", \"Response team\"],\n",
    ")"
   ]
  },
  {
   "cell_type": "markdown",
   "metadata": {
    "id": "hUvOh_xWIKig"
   },
   "source": [
    "We'll also create our new state - as well as some methods to help us navigate the new state and the subgraphs.\n",
    "\n",
    "> NOTE: We only pass the most recent message from the parent graph to the subgraph, and we only extract the most recent message from the subgraph to include in the state of the parent graph."
   ]
  },
  {
   "cell_type": "code",
   "execution_count": 72,
   "metadata": {
    "id": "O7HJ8MF0yh_i"
   },
   "outputs": [],
   "source": [
    "class State(TypedDict):\n",
    "    messages: Annotated[List[BaseMessage], operator.add]\n",
    "    next: str\n",
    "\n",
    "def get_last_message(state: State) -> str:\n",
    "    return state[\"messages\"][-1].content\n",
    "\n",
    "def join_graph(response: dict):\n",
    "    return {\"messages\": [response[\"messages\"][-1]]}"
   ]
  },
  {
   "cell_type": "markdown",
   "metadata": {
    "id": "B5RHao1sIanG"
   },
   "source": [
    "Next, we'll create our base graph.\n",
    "\n",
    "Notice how each node we're adding is *AN ENTIRE LANGGRAPH AGENT* (wrapped into an LCEL chain with our helper functions above)."
   ]
  },
  {
   "cell_type": "code",
   "execution_count": 73,
   "metadata": {
    "id": "PfCWABCMIaFy"
   },
   "outputs": [
    {
     "data": {
      "text/plain": [
       "<langgraph.graph.state.StateGraph at 0x11e56a9f0>"
      ]
     },
     "execution_count": 73,
     "metadata": {},
     "output_type": "execute_result"
    }
   ],
   "source": [
    "super_graph = StateGraph(State)\n",
    "\n",
    "super_graph.add_node(\"Research team\", get_last_message | research_chain | join_graph)\n",
    "super_graph.add_node(\"Response team\", get_last_message | authoring_chain | join_graph)\n",
    "super_graph.add_node(\"SuperSupervisor\", super_supervisor_agent)"
   ]
  },
  {
   "cell_type": "markdown",
   "metadata": {
    "id": "dpwpUXMtI62E"
   },
   "source": [
    "Next, we'll create our edges!\n",
    "\n",
    "This process is completely idenctical to what we've seen before - just addressing the LangGraph subgraph nodes instead of individual nodes."
   ]
  },
  {
   "cell_type": "code",
   "execution_count": 74,
   "metadata": {
    "id": "tLtjRuUYI-fx"
   },
   "outputs": [
    {
     "data": {
      "text/plain": [
       "<langgraph.graph.state.StateGraph at 0x11e56a9f0>"
      ]
     },
     "execution_count": 74,
     "metadata": {},
     "output_type": "execute_result"
    }
   ],
   "source": [
    "super_graph.add_edge(\"Research team\", \"SuperSupervisor\")\n",
    "super_graph.add_edge(\"Response team\", \"SuperSupervisor\")\n",
    "super_graph.add_conditional_edges(\n",
    "    \"SuperSupervisor\",\n",
    "    lambda x: x[\"next\"],\n",
    "    {\n",
    "        \"Response team\": \"Response team\",\n",
    "        \"Research team\": \"Research team\",\n",
    "        \"FINISH\": END,\n",
    "    },\n",
    ")\n",
    "super_graph.set_entry_point(\"SuperSupervisor\")"
   ]
  },
  {
   "cell_type": "code",
   "execution_count": 75,
   "metadata": {},
   "outputs": [
    {
     "data": {
      "image/png": "[encoded data removed]",
      "text/plain": [
       "<langgraph.graph.state.CompiledStateGraph object at 0x11e56e3f0>"
      ]
     },
     "execution_count": 75,
     "metadata": {},
     "output_type": "execute_result"
    }
   ],
   "source": [
    "compiled_super_graph = super_graph.compile()\n",
    "compiled_super_graph"
   ]
  },
  {
   "cell_type": "markdown",
   "metadata": {
    "id": "K1KMfFqgJKw8"
   },
   "source": [
    "That's it!\n",
    "\n",
    "Now we can finally use our full agent!"
   ]
  },
  {
   "cell_type": "code",
   "execution_count": null,
   "metadata": {
    "colab": {
     "base_uri": "https://localhost:8080/"
    },
    "id": "3M6wUDR-yk8s",
    "outputId": "056fe89e-5a81-4852-f0cb-35367da8cef0"
   },
   "outputs": [
    {
     "name": "stdout",
     "output_type": "stream",
     "text": [
      "{'SuperSupervisor': {'next': 'Research team'}}\n",
      "---\n",
      "{'Research team': {'messages': [HumanMessage(content='### Report on the Future of Software Engineering: 5 to 10-Year Outlook\\n\\n#### Introduction\\nThe landscape of software engineering is rapidly changing due to technological advancements and evolving market demands. This report provides insights into the anticipated developments in the profession of software engineering over the next five to ten years.\\n\\n#### Future Outlook: Next 5 Years (2025)\\n\\n1. **Job Growth and Demand**\\n   - According to projections, software development roles are expected to see a significant growth rate, driven by digital transformation across industries. This includes an anticipated increase in job opportunities to accommodate both new positions and replacements for retiring engineers.\\n\\n2. **Adoption of AI Tools**\\n   - Within the next five years, software engineers will likely adopt AI and machine learning tools extensively. These technologies are predicted to automate routine coding tasks, allowing engineers to focus on complex problems and innovative solutions.\\n\\n3. **Skill Development**\\n   - Engineers will be required to cultivate new skill sets, especially in project management, software maintenance, and strategic planning, as their roles shift from pure coding to more managerial and evaluative tasks.\\n\\n#### Future Outlook: Next 10 Years (2033)\\n\\n1. **Sustained Job Market Stability**\\n   - It is expected that the demand for skilled software professionals will remain robust, with a significant portion of programming roles centered around human collaboration with AI technologies, especially for tasks that require creativity and strategic thinking.\\n\\n2. **Impact of Automation on Roles**\\n   - By the year 2040, the role of software engineers may shift substantially as automation takes over many coding tasks. Engineers will likely find themselves managing complex AI systems instead of performing the coding themselves.\\n\\n3. **Shift Towards Managerial Competencies**\\n   - As routine tasks become automated, a greater emphasis will be placed on managerial skills. Software engineers will need to oversee automated systems and ensure they remain effective and aligned with organizational objectives.\\n\\n4. **Global Workforce and Remote Collaboration**\\n   - The future will also see an increasingly global workforce, compelling software engineers to collaborate across different cultures and languages. This aspect will enhance innovation and could lead to diverse approaches in problem-solving within teams.\\n\\n#### Conclusion\\nThe future of software engineering promises to be dynamic and challenging as organizations embrace new technologies, particularly AI. Software engineers must prepare to adapt to a landscape that emphasizes creativity, strategic oversight, and collaboration within global teams. The potential for job growth remains strong, making this an exciting field for upcoming professionals. As AI continues to evolve and integrate into everyday workflows, the role of the software engineer will indeed become more multifaceted, blending human intuition with technological capabilities.', additional_kwargs={}, response_metadata={}, name='HowPeopleUseAIRetriever')]}}\n",
      "---\n",
      "{'SuperSupervisor': {'next': 'FINISH'}}\n",
      "---\n"
     ]
    }
   ],
   "source": [
    "WORKING_DIRECTORY = Path(create_random_subdirectory())\n",
    "\n",
    "for s in compiled_super_graph.stream(\n",
    "    {\n",
    "        \"messages\": [\n",
    "            HumanMessage(\n",
    "                content=\"Write a report on the rise of context engineering in the LLM Space in 2025, and how it's impacting how people are using AI.\"\n",
    "            )\n",
    "        ],\n",
    "    },\n",
    "    {\"recursion_limit\": 30},\n",
    "):\n",
    "    if \"__end__\" not in s:\n",
    "        print(s)\n",
    "        print(\"---\")"
   ]
  },
  {
   "cell_type": "markdown",
   "metadata": {
    "id": "PuZAvSlJJpPP"
   },
   "source": [
    "## SAMPLE POST!"
   ]
  },
  {
   "cell_type": "markdown",
   "metadata": {
    "id": "lOEMCrXTJaxW"
   },
   "source": [
    "### Report on the Rise of Context Engineering in the LLM Space in 2025\n",
    "\n",
    "#### Introduction\n",
    "As we move further into 2025, the landscape of artificial intelligence continues to evolve, particularly in the domain of large language models (LLMs). One significant trend emerging is \"context engineering,\" which has begun to outpace the earlier focus on prompt engineering. This report explores how context engineering is reshaping the dynamics of AI usage, enhancing the capabilities of LLMs to perform complex tasks, and ultimately influencing the way users interact with AI technologies.\n",
    "\n",
    "#### The Emergence of Context Engineering\n",
    "In previous years, prompt engineering involved crafting inputs to guide LLMs to generate desired outputs. However, by 2025, the limitations of traditional prompt engineering have become evident, especially as applications require more dynamic interactions and multi-turn dialogues. Context engineering has emerged as a new paradigm, prioritizing the construction of strategies and systems that enable LLMs to access and utilize extensive contextual information effectively.\n",
    "\n",
    "Modern LLMs, such as GPT-4 Turbo and Claude 3, now boast context windows that can handle up to 1 million tokens. This substantial increase allows these models to grasp more extensive content, such as books or lengthy documents, fundamentally changing what they can achieve in real-world applications.\n",
    "\n",
    "#### Key Developments in Context Engineering\n",
    "1. **Dynamic Knowledge Management**: The shift towards context engineering facilitates more sophisticated knowledge management within AI systems. These systems now use persistent memory and adaptive reasoning, enabling them to maintain context across interactions. For example, agent-based LLMs can now engage in workflows requiring multiple exchanges, which is vital for complex applications requiring follow-ups and extended dialogues.\n",
    "\n",
    "2. **Improved Context Lengths**: Advances in transformer architectures have led to the possibility of extending native context lengths dramatically. As a result, LLMs can process larger datasets directly, enhancing their capacity to deliver accurate and relevant outputs without extensive re-prompting.\n",
    "\n",
    "3. **Context Compression and Retrieval**: Techniques such as context compression, where information is stored externally or synthesized to maximize relevance, are gaining traction. Methods identified in recent studies highlight the importance of integrating efficient retrieval systems and summarization techniques to make the most of the available context.\n",
    "\n",
    "4. **The Rise of Multi-Agent Systems**: In 2025, LLM applications are increasingly shifting towards multi-agent architectures, where different AI agents work collaboratively, leveraging various tools and pieces of information to improve output accuracy and reduce operational inefficiencies.\n",
    "\n",
    "#### Impact on AI Usage\n",
    "The implications of context engineering are far-reaching and transformative for users and organizations:\n",
    "\n",
    "- **Enhanced Accuracy**: Enterprises adopting context engineering report accuracy rates of 90-95%, a significant improvement over the 65-75% typically associated with earlier methods. This rise in performance is generating more trust in AI systems across various sectors.\n",
    "\n",
    "- **Faster Deployment and Cost Efficiency**: Organizations employing structured context engineering have demonstrated a 3x increase in the speed of bringing AI solutions to production and a 40% reduction in operational costs compared to traditional prompt-based methodologies.\n",
    "\n",
    "- **Adaptability and Scalability**: Context-engineered systems are inherently more adaptable, allowing businesses to scale AI applications rapidly in response to evolving needs without overhauling the underlying architecture.\n",
    "\n",
    "- **Augmentation of Human Intelligence**: As context engineering allows AI systems to interact in more meaningful ways, they are increasingly positioned as partners in decision-making processes, rather than mere tools. This evolution enhances the collaborative potential between humans and AI.\n",
    "\n",
    "#### Conclusion\n",
    "The rise of context engineering marks a critical turning point in the development and application of LLMs. As AI systems become increasingly capable of managing and utilizing complex contextual information, they are set to enhance user experiences, improve efficiency, and drive new innovations across industries. Organizations that embrace this trend will likely lead the charge into a future where AI is not just a tool for automation but a collaborative partner in problem-solving and creativity."
   ]
  }
 ],
 "metadata": {
  "colab": {
   "provenance": []
  },
  "kernelspec": {
   "display_name": ".venv",
   "language": "python",
   "name": "python3"
  },
  "language_info": {
   "codemirror_mode": {
    "name": "ipython",
    "version": 3
   },
   "file_extension": ".py",
   "mimetype": "text/x-python",
   "name": "python",
   "nbconvert_exporter": "python",
   "pygments_lexer": "ipython3",
   "version": "3.13.4"
  }
 },
 "nbformat": 4,
 "nbformat_minor": 0
}
